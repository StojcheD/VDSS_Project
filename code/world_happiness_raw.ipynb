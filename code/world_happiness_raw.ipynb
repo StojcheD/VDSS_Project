{
 "cells": [
  {
   "cell_type": "code",
   "execution_count": 1,
   "id": "490e0222-8c86-4ad6-b24a-70c372f9d014",
   "metadata": {
    "tags": []
   },
   "outputs": [],
   "source": [
    "import pandas as pd\n",
    "import matplotlib.pyplot as plt\n",
    "import numpy as np\n",
    "import os"
   ]
  },
  {
   "cell_type": "code",
   "execution_count": 4,
   "id": "c3f9812d-f6e4-4f89-a654-174b3dad139a",
   "metadata": {
    "tags": []
   },
   "outputs": [
    {
     "name": "stdout",
     "output_type": "stream",
     "text": [
      "<class 'pandas.core.frame.DataFrame'>\n",
      "RangeIndex: 147 entries, 0 to 146\n",
      "Data columns (total 12 columns):\n",
      " #   Column                                      Non-Null Count  Dtype \n",
      "---  ------                                      --------------  ----- \n",
      " 0   RANK                                        147 non-null    int64 \n",
      " 1   Country                                     147 non-null    object\n",
      " 2   Happiness score                             146 non-null    object\n",
      " 3   Whisker-high                                146 non-null    object\n",
      " 4   Whisker-low                                 146 non-null    object\n",
      " 5   Dystopia (1.83) + residual                  146 non-null    object\n",
      " 6   Explained by: GDP per capita                146 non-null    object\n",
      " 7   Explained by: Social support                146 non-null    object\n",
      " 8   Explained by: Healthy life expectancy       146 non-null    object\n",
      " 9   Explained by: Freedom to make life choices  146 non-null    object\n",
      " 10  Explained by: Generosity                    146 non-null    object\n",
      " 11  Explained by: Perceptions of corruption     146 non-null    object\n",
      "dtypes: int64(1), object(11)\n",
      "memory usage: 13.9+ KB\n"
     ]
    }
   ],
   "source": [
    "path = os.getcwd()\n",
    "raw = pd.read_csv(path + \"/raw_data/World Happiness/2022.csv\", low_memory=False)\n",
    "raw.info()\n",
    "\n"
   ]
  }
 ],
 "metadata": {
  "kernelspec": {
   "display_name": "Python 3 (ipykernel)",
   "language": "python",
   "name": "python3"
  },
  "language_info": {
   "codemirror_mode": {
    "name": "ipython",
    "version": 3
   },
   "file_extension": ".py",
   "mimetype": "text/x-python",
   "name": "python",
   "nbconvert_exporter": "python",
   "pygments_lexer": "ipython3",
   "version": "3.10.9"
  }
 },
 "nbformat": 4,
 "nbformat_minor": 5
}
