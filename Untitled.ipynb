{
 "cells": [
  {
   "cell_type": "code",
   "execution_count": 1,
   "id": "c93dca9b",
   "metadata": {},
   "outputs": [
    {
     "name": "stdout",
     "output_type": "stream",
     "text": [
      "Collecting matplotlib-venn\n",
      "  Downloading matplotlib-venn-0.11.9.tar.gz (30 kB)\n",
      "  Installing build dependencies: started\n",
      "  Installing build dependencies: finished with status 'done'\n",
      "  Getting requirements to build wheel: started\n",
      "  Getting requirements to build wheel: finished with status 'done'\n",
      "  Installing backend dependencies: started\n",
      "  Installing backend dependencies: finished with status 'done'\n",
      "  Preparing metadata (pyproject.toml): started\n",
      "  Preparing metadata (pyproject.toml): finished with status 'done'\n",
      "Requirement already satisfied: matplotlib in c:\\users\\stojc\\anaconda3\\envs\\vdss-st\\lib\\site-packages (from matplotlib-venn) (3.6.3)\n",
      "Requirement already satisfied: numpy in c:\\users\\stojc\\anaconda3\\envs\\vdss-st\\lib\\site-packages (from matplotlib-venn) (1.24.2)\n",
      "Requirement already satisfied: scipy in c:\\users\\stojc\\anaconda3\\envs\\vdss-st\\lib\\site-packages (from matplotlib-venn) (1.10.1)\n",
      "Requirement already satisfied: contourpy>=1.0.1 in c:\\users\\stojc\\anaconda3\\envs\\vdss-st\\lib\\site-packages (from matplotlib->matplotlib-venn) (1.0.7)\n",
      "Requirement already satisfied: cycler>=0.10 in c:\\users\\stojc\\anaconda3\\envs\\vdss-st\\lib\\site-packages (from matplotlib->matplotlib-venn) (0.11.0)\n",
      "Requirement already satisfied: fonttools>=4.22.0 in c:\\users\\stojc\\anaconda3\\envs\\vdss-st\\lib\\site-packages (from matplotlib->matplotlib-venn) (4.39.3)\n",
      "Requirement already satisfied: kiwisolver>=1.0.1 in c:\\users\\stojc\\anaconda3\\envs\\vdss-st\\lib\\site-packages (from matplotlib->matplotlib-venn) (1.4.4)\n",
      "Requirement already satisfied: packaging>=20.0 in c:\\users\\stojc\\anaconda3\\envs\\vdss-st\\lib\\site-packages (from matplotlib->matplotlib-venn) (23.1)\n",
      "Requirement already satisfied: pillow>=6.2.0 in c:\\users\\stojc\\anaconda3\\envs\\vdss-st\\lib\\site-packages (from matplotlib->matplotlib-venn) (9.5.0)\n",
      "Requirement already satisfied: pyparsing>=2.2.1 in c:\\users\\stojc\\anaconda3\\envs\\vdss-st\\lib\\site-packages (from matplotlib->matplotlib-venn) (3.0.9)\n",
      "Requirement already satisfied: python-dateutil>=2.7 in c:\\users\\stojc\\anaconda3\\envs\\vdss-st\\lib\\site-packages (from matplotlib->matplotlib-venn) (2.8.2)\n",
      "Requirement already satisfied: six>=1.5 in c:\\users\\stojc\\anaconda3\\envs\\vdss-st\\lib\\site-packages (from python-dateutil>=2.7->matplotlib->matplotlib-venn) (1.16.0)\n",
      "Building wheels for collected packages: matplotlib-venn\n",
      "  Building wheel for matplotlib-venn (pyproject.toml): started\n",
      "  Building wheel for matplotlib-venn (pyproject.toml): finished with status 'done'\n",
      "  Created wheel for matplotlib-venn: filename=matplotlib_venn-0.11.9-py3-none-any.whl size=33038 sha256=5ce76d23a6e38e9e21e70ca74da5f86f2965ce077f2dc3a63524e0a7e9a0cded\n",
      "  Stored in directory: c:\\users\\stojc\\appdata\\local\\pip\\cache\\wheels\\bd\\e2\\a0\\b922199922d1c6d4c3a9827bdb66b6d8924bb7cfdc5378deb1\n",
      "Successfully built matplotlib-venn\n",
      "Installing collected packages: matplotlib-venn\n",
      "Successfully installed matplotlib-venn-0.11.9\n",
      "Note: you may need to restart the kernel to use updated packages.\n"
     ]
    }
   ],
   "source": [
    "pip install matplotlib-venn"
   ]
  },
  {
   "cell_type": "code",
   "execution_count": null,
   "id": "66e56f92",
   "metadata": {},
   "outputs": [],
   "source": []
  }
 ],
 "metadata": {
  "kernelspec": {
   "display_name": "Python 3 (ipykernel)",
   "language": "python",
   "name": "python3"
  },
  "language_info": {
   "codemirror_mode": {
    "name": "ipython",
    "version": 3
   },
   "file_extension": ".py",
   "mimetype": "text/x-python",
   "name": "python",
   "nbconvert_exporter": "python",
   "pygments_lexer": "ipython3",
   "version": "3.10.10"
  }
 },
 "nbformat": 4,
 "nbformat_minor": 5
}
